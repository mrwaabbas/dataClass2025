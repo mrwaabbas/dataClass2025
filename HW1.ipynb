{
 "cells": [
  {
   "cell_type": "code",
   "execution_count": 8,
   "id": "d7884111-81d8-4535-9386-c893db2b636c",
   "metadata": {},
   "outputs": [
    {
     "name": "stdout",
     "output_type": "stream",
     "text": [
      "Advanced Data Reporting Class\n"
     ]
    }
   ],
   "source": [
    "#\n",
    "\n",
    "print (\"Advanced Data Reporting Class\")"
   ]
  },
  {
   "cell_type": "code",
   "execution_count": 6,
   "id": "7dc3023a-312c-4a1e-932c-a97aa96f7edb",
   "metadata": {},
   "outputs": [
    {
     "name": "stdout",
     "output_type": "stream",
     "text": [
      "This is my first homework assignment\n"
     ]
    }
   ],
   "source": [
    "##\n",
    "\n",
    "print (\"This is my first homework assignment\")"
   ]
  },
  {
   "cell_type": "code",
   "execution_count": null,
   "id": "cb260b9e-6bfb-4b0e-9070-7f799ed57bab",
   "metadata": {},
   "outputs": [],
   "source": []
  },
  {
   "cell_type": "code",
   "execution_count": null,
   "id": "13d91bf4-18e2-43dc-a516-6974eea841d8",
   "metadata": {},
   "outputs": [],
   "source": []
  }
 ],
 "metadata": {
  "kernelspec": {
   "display_name": "Python [conda env:base] *",
   "language": "python",
   "name": "conda-base-py"
  },
  "language_info": {
   "codemirror_mode": {
    "name": "ipython",
    "version": 3
   },
   "file_extension": ".py",
   "mimetype": "text/x-python",
   "name": "python",
   "nbconvert_exporter": "python",
   "pygments_lexer": "ipython3",
   "version": "3.12.7"
  }
 },
 "nbformat": 4,
 "nbformat_minor": 5
}
