{
 "cells": [
  {
   "cell_type": "markdown",
   "id": "edffd871-e6e8-46dc-8914-b6f527c112a5",
   "metadata": {},
   "source": [
    "# Advanced Data Reporting class\n",
    "## This is my first homework assignment\n",
    "### This is the data journalism website at CUNY (https://www.journalism.cuny.edu/future-students/academic-programs/specialties/data-journalism/)\n",
    "#### These are some other classes I'm taking this semester:\n",
    "- **NYC Climate Labs**\n",
    "- **Reporting on Race**\n",
    "- **Feature Writing**"
   ]
  },
  {
   "cell_type": "code",
   "execution_count": 36,
   "id": "12fd1e97-1b0d-4042-8f57-3cd87f581728",
   "metadata": {},
   "outputs": [
    {
     "name": "stdout",
     "output_type": "stream",
     "text": [
      "500\n"
     ]
    }
   ],
   "source": [
    "my_rent = 1000\n",
    "my_income = 1500\n",
    "after_rent = my_income - my_rent\n",
    "print(after_rent)"
   ]
  },
  {
   "cell_type": "code",
   "execution_count": null,
   "id": "cda63229-cd13-4b6e-88d6-4daa74120c3e",
   "metadata": {},
   "outputs": [],
   "source": []
  }
 ],
 "metadata": {
  "kernelspec": {
   "display_name": "Python [conda env:base] *",
   "language": "python",
   "name": "conda-base-py"
  },
  "language_info": {
   "codemirror_mode": {
    "name": "ipython",
    "version": 3
   },
   "file_extension": ".py",
   "mimetype": "text/x-python",
   "name": "python",
   "nbconvert_exporter": "python",
   "pygments_lexer": "ipython3",
   "version": "3.12.7"
  }
 },
 "nbformat": 4,
 "nbformat_minor": 5
}
